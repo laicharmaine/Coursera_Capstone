{
 "cells": [
  {
   "cell_type": "markdown",
   "metadata": {},
   "source": [
    "# IBM Data Science Capstone Project\n",
    "This notebook will be mainly used for the capstone project."
   ]
  },
  {
   "cell_type": "markdown",
   "metadata": {},
   "source": [
    "### Week 1 Submission - Creating a Notebook"
   ]
  },
  {
   "cell_type": "code",
   "execution_count": 1,
   "metadata": {},
   "outputs": [],
   "source": [
    "import pandas as pd\n",
    "import numpy as np  "
   ]
  },
  {
   "cell_type": "code",
   "execution_count": 3,
   "metadata": {},
   "outputs": [
    {
     "name": "stdout",
     "output_type": "stream",
     "text": [
      "Hello Capstone Project Course!\n"
     ]
    }
   ],
   "source": [
    "print(\"Hello Capstone Project Course!\")"
   ]
  },
  {
   "cell_type": "markdown",
   "metadata": {},
   "source": [
    "### Week 4 Submission - The Battle of Neighborhoods (Week 1)"
   ]
  },
  {
   "cell_type": "markdown",
   "metadata": {},
   "source": [
    "### 1. Introduction\n",
    "### 1.1 Background\n",
    "\n",
    "San Francisco is the nation’s leader in terms of property crime and also one of the most expensive cities in the US to live in. Hence, besides considering housing prices and the convenience of the neighborhood when looking for housing, we also have to consider how safe it is. \n",
    "\n",
    "However, due to the Fair Housing Act, land lords usually steer away from answering the questions on neighborhood safety and crime rates. Answering these questions is considered as discrimination in Real Estate Sales since mentioning the safety of the neighborhood might sway your decision in renting the apartment."
   ]
  },
  {
   "cell_type": "markdown",
   "metadata": {},
   "source": [
    "### 1.2 Problem\n",
    "\n",
    "As a recent college graduate in the Bay Area, one of the biggest concerns for many of my friends and me is finding housing in the city of San Francisco. San Francisco has many neighborhoods with its own distinct culture and charm, hence the crime rates, housing prices and nearby venues / amenities can be vastly different even for juxtapose neighborhoods. \n",
    "\n",
    "In order to find the perfect neighborhood, I wrote down a list of criteria for the apartment search I should consider (highest priority first): \n",
    "\n",
    "- Safety \n",
    "- Moderately busy area (mix between commercial and residential) \n",
    "- Close to the grocery store (walkable distance)\n",
    "- 1 bed 1 bath apartment (avg price)\n",
    "\n",
    "Distance to the office is usually an important factor in choosing housing too, but as many of us have a work from home option, it will be disregarded in this project. "
   ]
  },
  {
   "cell_type": "markdown",
   "metadata": {},
   "source": [
    "### 1.3 Objective \n",
    "\n",
    "This project aims to explore different neighborhoods in San Francisco and find the best area for recent college graduates in the Bay Area to move to. This study will mainly focus on the safety, housing prices and neighborhood amenities (such as grocery store, coffee shops etc). "
   ]
  },
  {
   "cell_type": "markdown",
   "metadata": {},
   "source": [
    "### 2 Data Acquisition and Preprocessing \n",
    "### 2.1 SF Find Neighborhoods \n",
    "\n",
    "- Purpose: Define all neighborhoods in the city of San Francisco \n",
    "- Source: Open data from SF government \n",
    "- Summary: This data set includes neighborhood boundaries defined in 2006 by the Mayor’s Office of Neighbor Services. All boundaries are for the purpose of deigning general locations of neighborhoods in the city of SF\n",
    "- Note: Boundaries of neighborhoods are not “hard” lines of division "
   ]
  },
  {
   "cell_type": "markdown",
   "metadata": {},
   "source": [
    "### 2.2 San Francisco Police Department Incident Reports\n",
    "- Purpose: Determine safety of neighborhood by evaluating frequency of crimes \n",
    "- Source:  Open data from SF government \n",
    "- Summary: This dataset includes police incident reports filed by officers and by indivbidals through self-service online reporting for non-emergency cases from 2019 to Present (6/30/20)\n",
    "- Note: The SF Police Department does not guarantee accuracy or completeness of the information as the data is subject to change as modifications and updates are completed\n",
    "\n",
    "Data cleansing:\n",
    "\n",
    "- For analysis, only “Open and Active”, or “Cite or Arrest” crimes will be used\n",
    "- Crimes will be sorted by its Incident Category\n",
    "- Only violent and property crimes within the Incident Category will be used\n",
    "- Other variables, including “miscellaneous” will be dropped"
   ]
  },
  {
   "cell_type": "markdown",
   "metadata": {},
   "source": [
    "### 2.3 Zillow San Francisco Home Prices & Values\n",
    "- Purpose: Determine the average rental price for each neighborhood \n",
    "- Source: Zillow\n",
    "- Summary: This dataset includes the median valuation (Zillow Home Value Index) for each neighborhood in San Francisco in the past year for 1 bedroom housings. \n",
    "- Note: Prices on Zillow are not guaranteed accuracy or completeness of the information "
   ]
  },
  {
   "cell_type": "markdown",
   "metadata": {},
   "source": [
    "### 2.4 Foursquare API\n",
    "- Purpose: Find top 10 popular venue categories in each neighborhood and create a cluster to determine which neighborhood has the best amenities and environment\n",
    "- Source: Foursquare API\n",
    "- Summary: This dataset includes popular venues and its category from the Foursquare database"
   ]
  },
  {
   "cell_type": "code",
   "execution_count": null,
   "metadata": {},
   "outputs": [],
   "source": []
  }
 ],
 "metadata": {
  "kernelspec": {
   "display_name": "Python",
   "language": "python",
   "name": "conda-env-python-py"
  },
  "language_info": {
   "codemirror_mode": {
    "name": "ipython",
    "version": 3
   },
   "file_extension": ".py",
   "mimetype": "text/x-python",
   "name": "python",
   "nbconvert_exporter": "python",
   "pygments_lexer": "ipython3",
   "version": "3.6.10"
  }
 },
 "nbformat": 4,
 "nbformat_minor": 4
}
